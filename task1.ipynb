{
 "cells": [
  {
   "cell_type": "code",
   "execution_count": 3,
   "id": "89d4070b",
   "metadata": {},
   "outputs": [],
   "source": [
    "import os\n",
    "import imghdr\n",
    "import cv2\n",
    "import numpy as np"
   ]
  },
  {
   "cell_type": "code",
   "execution_count": null,
   "id": "a1ac829a",
   "metadata": {},
   "outputs": [],
   "source": [
    "path = input()\n",
    "ext = ('jpg','jpeg')\n",
    "output_img =[]\n",
    "Idtype = []\n",
    "dir = 'output'\n",
    "if not (os.path.isdir(dir)):\n",
    "    os.mkdir(dir)\n",
    "def open_folder(p):\n",
    "    for files in os.listdir(p):\n",
    "        if files.endswith(ext):\n",
    "            path_img = p +\"\\\\\" +files\n",
    "            #print(path_img)\n",
    "            img = cv2.imread(path_img)\n",
    "            print(type(img))\n",
    "            name = \"gray\"+files\n",
    "            img_grayscale = cv2.cvtColor(img, cv2.COLOR_BGR2GRAY)\n",
    "            output_img.append(img_grayscale)\n",
    "            \n",
    "            if img_grayscale is not None:\n",
    "                cv2.imwrite(os.path.join(dir, name),img_grayscale)\n",
    "                Idtype.append(imghdr.what(os.path.join(dir, name)))\n",
    "        else:\n",
    "            continue           \n",
    "open_folder(path)\n",
    "print(len(output_img))\n",
    "print(Idtype[0])\n"
   ]
  },
  {
   "cell_type": "code",
   "execution_count": 11,
   "id": "3b241d66",
   "metadata": {},
   "outputs": [
    {
     "name": "stdout",
     "output_type": "stream",
     "text": [
      "C:\\darsh\\coding\\python\\fruit_images\\test_zip\\test\n",
      "60\n"
     ]
    },
    {
     "ename": "AttributeError",
     "evalue": "'numpy.ndarray' object has no attribute 'format'",
     "output_type": "error",
     "traceback": [
      "\u001b[1;31m---------------------------------------------------------------------------\u001b[0m",
      "\u001b[1;31mAttributeError\u001b[0m                            Traceback (most recent call last)",
      "\u001b[1;32mC:\\Users\\DARSHP~1\\AppData\\Local\\Temp/ipykernel_37236/3333275775.py\u001b[0m in \u001b[0;36m<module>\u001b[1;34m\u001b[0m\n\u001b[0;32m     26\u001b[0m \u001b[0mopen_folder\u001b[0m\u001b[1;33m(\u001b[0m\u001b[0mpath\u001b[0m\u001b[1;33m)\u001b[0m\u001b[1;33m\u001b[0m\u001b[1;33m\u001b[0m\u001b[0m\n\u001b[0;32m     27\u001b[0m \u001b[0mprint\u001b[0m\u001b[1;33m(\u001b[0m\u001b[0mlen\u001b[0m\u001b[1;33m(\u001b[0m\u001b[0moutput_img\u001b[0m\u001b[1;33m)\u001b[0m\u001b[1;33m)\u001b[0m\u001b[1;33m\u001b[0m\u001b[1;33m\u001b[0m\u001b[0m\n\u001b[1;32m---> 28\u001b[1;33m \u001b[0mprint\u001b[0m\u001b[1;33m(\u001b[0m\u001b[0moutput_img\u001b[0m\u001b[1;33m[\u001b[0m\u001b[1;36m0\u001b[0m\u001b[1;33m]\u001b[0m\u001b[1;33m.\u001b[0m\u001b[0mformat\u001b[0m\u001b[1;33m)\u001b[0m\u001b[1;33m\u001b[0m\u001b[1;33m\u001b[0m\u001b[0m\n\u001b[0m",
      "\u001b[1;31mAttributeError\u001b[0m: 'numpy.ndarray' object has no attribute 'format'"
     ]
    }
   ],
   "source": [
    "path = input()\n",
    "ext = ('jpg','jpeg')\n",
    "output_img =[]\n",
    "Idtype = []\n",
    "\n",
    "dir = 'output'\n",
    "if not os.path.isdir(dir):\n",
    "    os.mkdir(dir)\n",
    "\n",
    "def open_folder(p):\n",
    "    for files in os.listdir(p):\n",
    "        if files.endswith(ext):\n",
    "            \n",
    "            path_img = p +\"\\\\\" +files\n",
    "            img_array = np.array(path_img)\n",
    "            #print(path_img)\n",
    "            img = cv2.imread(path_img)\n",
    "            \n",
    "            name = \"gray\"+files\n",
    "            img_grayscale = cv2.cvtColor(img, cv2.COLOR_BGR2GRAY)\n",
    "            output_img.append(img_grayscale)\n",
    "            if img_grayscale is not None:\n",
    "                cv2.imwrite(os.path.join(dir, name),img_grayscale)\n",
    "        else:\n",
    "            continue           \n",
    "open_folder(path)\n",
    "print(len(output_img))\n",
    "print(output_img[0].format)"
   ]
  },
  {
   "cell_type": "code",
   "execution_count": null,
   "id": "72559caf",
   "metadata": {},
   "outputs": [],
   "source": []
  }
 ],
 "metadata": {
  "kernelspec": {
   "display_name": "Python 3 (ipykernel)",
   "language": "python",
   "name": "python3"
  },
  "language_info": {
   "codemirror_mode": {
    "name": "ipython",
    "version": 3
   },
   "file_extension": ".py",
   "mimetype": "text/x-python",
   "name": "python",
   "nbconvert_exporter": "python",
   "pygments_lexer": "ipython3",
   "version": "3.9.7"
  }
 },
 "nbformat": 4,
 "nbformat_minor": 5
}
